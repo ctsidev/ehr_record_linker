{
 "cells": [
  {
   "cell_type": "code",
   "execution_count": 1,
   "metadata": {},
   "outputs": [],
   "source": [
    "import pandas as pd\n",
    "import matplotlib.pyplot as plt\n",
    "import warnings\n",
    "warnings.filterwarnings(\"ignore\")"
   ]
  },
  {
   "cell_type": "code",
   "execution_count": 2,
   "metadata": {},
   "outputs": [],
   "source": [
    "match_df = pd.read_csv('matches.csv')"
   ]
  },
  {
   "cell_type": "code",
   "execution_count": 4,
   "metadata": {},
   "outputs": [
    {
     "data": {
      "text/plain": [
       "count    638890.000000\n",
       "mean         76.783833\n",
       "std          19.719037\n",
       "min          31.990000\n",
       "25%          55.280000\n",
       "50%          83.470000\n",
       "75%          94.000000\n",
       "max         100.000000\n",
       "Name: WEIGHTED_AVG, dtype: float64"
      ]
     },
     "execution_count": 4,
     "metadata": {},
     "output_type": "execute_result"
    }
   ],
   "source": [
    "match_df['WEIGHTED_AVG'].describe()"
   ]
  },
  {
   "cell_type": "code",
   "execution_count": 5,
   "metadata": {},
   "outputs": [
    {
     "data": {
      "text/plain": [
       "<matplotlib.axes._subplots.AxesSubplot at 0x1add3dbe6a0>"
      ]
     },
     "execution_count": 5,
     "metadata": {},
     "output_type": "execute_result"
    },
    {
     "data": {
      "image/png": "[encoded data removed]",
      "text/plain": [
       "<Figure size 432x288 with 1 Axes>"
      ]
     },
     "metadata": {
      "needs_background": "light"
     },
     "output_type": "display_data"
    }
   ],
   "source": [
    "match_df['WEIGHTED_AVG'].plot(kind='box')"
   ]
  },
  {
   "cell_type": "code",
   "execution_count": 6,
   "metadata": {},
   "outputs": [],
   "source": [
    "def freq_bar(df):\n",
    "    score_counts = df['WEIGHTED_AVG'].round(2).value_counts()\n",
    "    x = score_counts.keys().sort_values()\n",
    "    y = [score_counts[idx] for idx in x]\n",
    "    plt.bar(x, y)"
   ]
  },
  {
   "cell_type": "code",
   "execution_count": 7,
   "metadata": {},
   "outputs": [
    {
     "data": {
      "image/png": "[encoded data removed]",
      "text/plain": [
       "<Figure size 432x288 with 1 Axes>"
      ]
     },
     "metadata": {
      "needs_background": "light"
     },
     "output_type": "display_data"
    }
   ],
   "source": [
    "freq_bar(match_df)"
   ]
  },
  {
   "cell_type": "code",
   "execution_count": 20,
   "metadata": {},
   "outputs": [
    {
     "name": "stdout",
     "output_type": "stream",
     "text": [
      "232379 patients of 638890 voters, 36.37%\n"
     ]
    },
    {
     "data": {
      "image/png": "[encoded data removed]",
      "text/plain": [
       "<Figure size 432x288 with 1 Axes>"
      ]
     },
     "metadata": {
      "needs_background": "light"
     },
     "output_type": "display_data"
    }
   ],
   "source": [
    "score_cutoff = 90\n",
    "cutoff_df = match_df[match_df['WEIGHTED_AVG'] >= score_cutoff]\n",
    "\n",
    "cutoff = cutoff_df.count()[0]\n",
    "total = match_df.count()[0]\n",
    "pc = round(100 * ( cutoff / total ), 2)\n",
    "print(f\"{cutoff} patients of {total} voters, {pc}%\")\n",
    "\n",
    "freq_bar(cutoff_df)"
   ]
  },
  {
   "cell_type": "code",
   "execution_count": 22,
   "metadata": {},
   "outputs": [
    {
     "data": {
      "text/html": [
       "<div>\n",
       "<style scoped>\n",
       "    .dataframe tbody tr th:only-of-type {\n",
       "        vertical-align: middle;\n",
       "    }\n",
       "\n",
       "    .dataframe tbody tr th {\n",
       "        vertical-align: top;\n",
       "    }\n",
       "\n",
       "    .dataframe thead th {\n",
       "        text-align: right;\n",
       "    }\n",
       "</style>\n",
       "<table border=\"1\" class=\"dataframe\">\n",
       "  <thead>\n",
       "    <tr style=\"text-align: right;\">\n",
       "      <th></th>\n",
       "      <th>WEIGHTED_AVG</th>\n",
       "      <th>ID_LEFT</th>\n",
       "      <th>ID_RIGHT</th>\n",
       "      <th>NAME_LEFT</th>\n",
       "      <th>PAT_NAME_RIGHT</th>\n",
       "      <th>ADDRESS_LEFT</th>\n",
       "      <th>ADDRESS_RIGHT</th>\n",
       "      <th>CITY_LEFT</th>\n",
       "      <th>CITY_RIGHT</th>\n",
       "      <th>STATE_LEFT</th>\n",
       "      <th>STATE_RIGHT</th>\n",
       "      <th>ZIP_LEFT</th>\n",
       "      <th>ZIP_RIGHT</th>\n",
       "      <th>PHONE_LEFT</th>\n",
       "      <th>PHONE_NUMS_RIGHT</th>\n",
       "    </tr>\n",
       "  </thead>\n",
       "  <tbody>\n",
       "    <tr>\n",
       "      <th>189631</th>\n",
       "      <td>94.00</td>\n",
       "      <td>LALCA1189403</td>\n",
       "      <td>Z1630738</td>\n",
       "      <td>Romo,Dolores</td>\n",
       "      <td>ROMO,DOLORES</td>\n",
       "      <td>3859 Huron Ave</td>\n",
       "      <td>3859 HURON AVE</td>\n",
       "      <td>Culver City</td>\n",
       "      <td>CULVER CITY</td>\n",
       "      <td>CA</td>\n",
       "      <td>CA</td>\n",
       "      <td>90232 3846.0</td>\n",
       "      <td>90232</td>\n",
       "      <td>(760) 240-6991</td>\n",
       "      <td>310-560-7468</td>\n",
       "    </tr>\n",
       "    <tr>\n",
       "      <th>171904</th>\n",
       "      <td>90.49</td>\n",
       "      <td>LALCA3677644</td>\n",
       "      <td>Z3504392</td>\n",
       "      <td>Disanti,Sarah Cole Disanti,Sarah  Cole,Sarah L...</td>\n",
       "      <td>COLE,SARAH L</td>\n",
       "      <td>18002 Coastline Dr Apt 16  1616 Brockton Ave A...</td>\n",
       "      <td>18002 Coastline Drive Apt16</td>\n",
       "      <td>Malibu Los Angeles</td>\n",
       "      <td>MALIBU</td>\n",
       "      <td>CA</td>\n",
       "      <td>CA</td>\n",
       "      <td>90265 5725.0 90025 3773.0</td>\n",
       "      <td>90265</td>\n",
       "      <td>(508) 971-1020 (314) 368-8365</td>\n",
       "      <td>314-368-8365</td>\n",
       "    </tr>\n",
       "    <tr>\n",
       "      <th>224481</th>\n",
       "      <td>90.76</td>\n",
       "      <td>LALCA399941928</td>\n",
       "      <td>Z3205817</td>\n",
       "      <td>Lee,Esther Dahyun</td>\n",
       "      <td>LEE,DAHYUN</td>\n",
       "      <td>3618 Keystone Ave Apt 1</td>\n",
       "      <td>3618 KEYSTONE AVE NUMB 1</td>\n",
       "      <td>Los Angeles</td>\n",
       "      <td>LOS ANGELES</td>\n",
       "      <td>CA</td>\n",
       "      <td>CA</td>\n",
       "      <td>90034 5665.0</td>\n",
       "      <td>90034</td>\n",
       "      <td>(310) 408-9897 (310) 838-1938 (310) 622-3670</td>\n",
       "      <td>562-882-2509</td>\n",
       "    </tr>\n",
       "    <tr>\n",
       "      <th>242125</th>\n",
       "      <td>94.60</td>\n",
       "      <td>LALCA400139616</td>\n",
       "      <td>Z4066201</td>\n",
       "      <td>Basava,Rashmi</td>\n",
       "      <td>BASAVA,RASHMI</td>\n",
       "      <td>4120 Motor Ave</td>\n",
       "      <td>4120 MOTOR AVE</td>\n",
       "      <td>Culver City</td>\n",
       "      <td>CULVER CITY</td>\n",
       "      <td>CA</td>\n",
       "      <td>CA</td>\n",
       "      <td>90232 3415.0</td>\n",
       "      <td>90232</td>\n",
       "      <td>(310) 874-1527 (310) 838-7582</td>\n",
       "      <td>310-895-5477</td>\n",
       "    </tr>\n",
       "    <tr>\n",
       "      <th>99371</th>\n",
       "      <td>91.84</td>\n",
       "      <td>LALCA2828876</td>\n",
       "      <td>Z4578694</td>\n",
       "      <td>Levinsohn,Michael Winn Levinsohn,Michael</td>\n",
       "      <td>LEVINSOHN,MICHAEL</td>\n",
       "      <td>2331 Midvale Ave</td>\n",
       "      <td>2355 Westwood Blvd 528</td>\n",
       "      <td>Los Angeles</td>\n",
       "      <td>LOS ANGELES</td>\n",
       "      <td>CA</td>\n",
       "      <td>CA</td>\n",
       "      <td>90064 2103.0</td>\n",
       "      <td>90064</td>\n",
       "      <td>(310) 420-9081 (310) 475-8811</td>\n",
       "      <td>310-420-9081 310-420-9081</td>\n",
       "    </tr>\n",
       "  </tbody>\n",
       "</table>\n",
       "</div>"
      ],
      "text/plain": [
       "        WEIGHTED_AVG         ID_LEFT  ID_RIGHT  \\\n",
       "189631         94.00    LALCA1189403  Z1630738   \n",
       "171904         90.49    LALCA3677644  Z3504392   \n",
       "224481         90.76  LALCA399941928  Z3205817   \n",
       "242125         94.60  LALCA400139616  Z4066201   \n",
       "99371          91.84    LALCA2828876  Z4578694   \n",
       "\n",
       "                                                NAME_LEFT     PAT_NAME_RIGHT  \\\n",
       "189631                                      Romo,Dolores        ROMO,DOLORES   \n",
       "171904  Disanti,Sarah Cole Disanti,Sarah  Cole,Sarah L...       COLE,SARAH L   \n",
       "224481                                  Lee,Esther Dahyun         LEE,DAHYUN   \n",
       "242125                                     Basava,Rashmi       BASAVA,RASHMI   \n",
       "99371           Levinsohn,Michael Winn Levinsohn,Michael   LEVINSOHN,MICHAEL   \n",
       "\n",
       "                                             ADDRESS_LEFT  \\\n",
       "189631                                    3859 Huron Ave    \n",
       "171904  18002 Coastline Dr Apt 16  1616 Brockton Ave A...   \n",
       "224481                           3618 Keystone Ave Apt 1    \n",
       "242125                                    4120 Motor Ave    \n",
       "99371                                   2331 Midvale Ave    \n",
       "\n",
       "                       ADDRESS_RIGHT           CITY_LEFT   CITY_RIGHT  \\\n",
       "189631               3859 HURON AVE          Culver City  CULVER CITY   \n",
       "171904  18002 Coastline Drive Apt16   Malibu Los Angeles       MALIBU   \n",
       "224481     3618 KEYSTONE AVE NUMB 1          Los Angeles  LOS ANGELES   \n",
       "242125               4120 MOTOR AVE          Culver City  CULVER CITY   \n",
       "99371        2355 Westwood Blvd 528          Los Angeles  LOS ANGELES   \n",
       "\n",
       "       STATE_LEFT STATE_RIGHT                   ZIP_LEFT ZIP_RIGHT  \\\n",
       "189631         CA          CA               90232 3846.0     90232   \n",
       "171904         CA          CA  90265 5725.0 90025 3773.0     90265   \n",
       "224481         CA          CA               90034 5665.0     90034   \n",
       "242125         CA          CA               90232 3415.0     90232   \n",
       "99371          CA          CA               90064 2103.0     90064   \n",
       "\n",
       "                                          PHONE_LEFT  \\\n",
       "189631                                (760) 240-6991   \n",
       "171904                 (508) 971-1020 (314) 368-8365   \n",
       "224481  (310) 408-9897 (310) 838-1938 (310) 622-3670   \n",
       "242125                 (310) 874-1527 (310) 838-7582   \n",
       "99371                  (310) 420-9081 (310) 475-8811   \n",
       "\n",
       "                 PHONE_NUMS_RIGHT  \n",
       "189631               310-560-7468  \n",
       "171904               314-368-8365  \n",
       "224481              562-882-2509   \n",
       "242125               310-895-5477  \n",
       "99371   310-420-9081 310-420-9081  "
      ]
     },
     "execution_count": 22,
     "metadata": {},
     "output_type": "execute_result"
    }
   ],
   "source": [
    "high_end = 95\n",
    "cutoff_df[match_df['WEIGHTED_AVG'] <= high_end].sample(5)"
   ]
  },
  {
   "cell_type": "code",
   "execution_count": null,
   "metadata": {},
   "outputs": [],
   "source": []
  },
  {
   "cell_type": "code",
   "execution_count": null,
   "metadata": {},
   "outputs": [],
   "source": []
  }
 ],
 "metadata": {
  "kernelspec": {
   "display_name": "Python 3",
   "language": "python",
   "name": "python3"
  },
  "language_info": {
   "codemirror_mode": {
    "name": "ipython",
    "version": 3
   },
   "file_extension": ".py",
   "mimetype": "text/x-python",
   "name": "python",
   "nbconvert_exporter": "python",
   "pygments_lexer": "ipython3",
   "version": "3.7.3"
  }
 },
 "nbformat": 4,
 "nbformat_minor": 2
}

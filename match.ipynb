{
 "cells": [
  {
   "cell_type": "code",
   "execution_count": 1,
   "metadata": {},
   "outputs": [],
   "source": [
    "import pandas as pd\n",
    "import numpy as np\n",
    "import json\n",
    "import csv\n",
    "import os\n",
    "import cx_Oracle as ora\n",
    "from fuzzywuzzy import fuzz\n",
    "from IPython.display import clear_output"
   ]
  },
  {
   "cell_type": "code",
   "execution_count": 2,
   "metadata": {},
   "outputs": [],
   "source": [
    "json = json.load(open('config.json'))\n",
    "left_data = pd.read_csv(json['left_data']['file_path'])\n",
    "conn = json['right_data']['db_conn']\n",
    "sql = open(json['right_data']['query_path']).read()\n",
    "\n",
    "match_dir = json['matching']['match_dir']\n",
    "if not os.path.exists(match_dir):\n",
    "    os.mkdir(match_dir)\n",
    "db = ora.connect(f\"{conn['username']}/{conn['password']}@{conn['host']}\").cursor()"
   ]
  },
  {
   "cell_type": "code",
   "execution_count": 3,
   "metadata": {},
   "outputs": [],
   "source": [
    "csv_header = ['WEIGHTED_AVG', 'ID_LEFT', 'ID_RIGHT']\n",
    "for col in json['matching']['columns']:\n",
    "    csv_header.append(col['left_col'] + '_LEFT')\n",
    "    csv_header.append(col['right_col'] + '_RIGHT')"
   ]
  },
  {
   "cell_type": "code",
   "execution_count": 7,
   "metadata": {},
   "outputs": [
    {
     "name": "stdout",
     "output_type": "stream",
     "text": [
      "Records matched: 638890\n"
     ]
    }
   ],
   "source": [
    "batch_num = 500\n",
    "\n",
    "for i, l_row in left_data.iterrows():\n",
    "    if i > 0 and i % batch_num == 0:\n",
    "        f.close()\n",
    "        \n",
    "    if i == 0 or i % batch_num == 0:\n",
    "        f = open(f\"{match_dir}/group_{i}.csv\", 'w', encoding='UTF-8')\n",
    "        out_csv = csv.writer(f)\n",
    "        out_csv.writerow(csv_header)\n",
    "    \n",
    "    params = []\n",
    "    for col in json['matching']['right_joins']:\n",
    "        if col == 'DOB':\n",
    "            params.append(l_row[col][:11])\n",
    "        else:\n",
    "            params.append(l_row[col])\n",
    "        \n",
    "    db.execute(sql, params)\n",
    "    right_col_list = [row[0] for row in db.description]\n",
    "    right_cols = {}\n",
    "    for j, col in enumerate(right_col_list):\n",
    "        right_cols[col] = j\n",
    "    \n",
    "    results_dict = {}\n",
    "    \n",
    "    for r_row in db:\n",
    "        row_score = 0\n",
    "        l_vals = []\n",
    "        r_vals = []\n",
    "        csv_row = [l_row[json['matching']['left_id']]]\n",
    "        csv_row.append(r_row[right_cols[json['matching']['right_id']]])\n",
    "        \n",
    "        for col in json['matching']['columns']:\n",
    "            match_val = None\n",
    "            l_val = l_row[col['left_col']]\n",
    "            csv_row.append(l_val)\n",
    "            r_val = r_row[right_cols[col['right_col']]]\n",
    "            csv_row.append(r_val)\n",
    "            \n",
    "            if col['algo'] == 'ratio':\n",
    "                match_val = fuzz.ratio(l_val, r_val)\n",
    "            elif col['algo'] == 'partial_ratio':\n",
    "                match_val = fuzz.partial_ratio(l_val, r_val)\n",
    "            elif col['algo'] == 'token_sort_ratio':\n",
    "                match_val = fuzz.token_sort_ratio(l_val, r_val)\n",
    "            elif col['algo'] == 'token_set_ratio':\n",
    "                match_val = fuzz.token_set_ratio(l_val, r_val)\n",
    "            \n",
    "            \n",
    "            row_score += match_val * col['acc_avg_weight']\n",
    "    \n",
    "        results_dict[round(row_score, 2)] = csv_row\n",
    "    \n",
    "    best_avg = max(results_dict.keys())\n",
    "    out_csv.writerow([best_avg] + results_dict[best_avg])\n",
    "    \n",
    "    clear_output(wait=True)\n",
    "    print(f'Records matched: {i+1}')\n",
    "\n",
    "f.close()"
   ]
  },
  {
   "cell_type": "code",
   "execution_count": 9,
   "metadata": {},
   "outputs": [],
   "source": [
    "for i, filename in enumerate(os.listdir(json['matching']['match_dir'])):\n",
    "    f_path = f\"{json['matching']['match_dir']}/{filename}\"\n",
    "    if i == 0:\n",
    "        df = pd.read_csv(f_path)\n",
    "    else:\n",
    "        df = df.append(pd.read_csv(f_path))\n",
    "        \n",
    "df.to_csv(json['matching']['match_file'], index=False)"
   ]
  },
  {
   "cell_type": "code",
   "execution_count": null,
   "metadata": {},
   "outputs": [],
   "source": []
  }
 ],
 "metadata": {
  "kernelspec": {
   "display_name": "Python 3",
   "language": "python",
   "name": "python3"
  },
  "language_info": {
   "codemirror_mode": {
    "name": "ipython",
    "version": 3
   },
   "file_extension": ".py",
   "mimetype": "text/x-python",
   "name": "python",
   "nbconvert_exporter": "python",
   "pygments_lexer": "ipython3",
   "version": "3.7.3"
  }
 },
 "nbformat": 4,
 "nbformat_minor": 2
}
